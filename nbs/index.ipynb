{
 "cells": [
  {
   "cell_type": "markdown",
   "metadata": {},
   "source": [
    "# claudette-pydantic\n",
    "\n",
    "> "
   ]
  },
  {
   "cell_type": "markdown",
   "metadata": {},
   "source": [
    "> Adds Pydantic support for [claudette](https://github.com/AnswerDotAI/claudette) through function calling\n"
   ]
  },
  {
   "cell_type": "markdown",
   "metadata": {},
   "source": [
    "claudette_pydantic provides the `struct` method in the `Client` and `Chat` of claudette\n",
    "\n",
    "`struct` provides a wrapper around `__call__`. Provide a Pydantic `BaseModel` as schema, and the model will return an initialized `BaseModel` object.\n",
    "\n",
    "I've found Haiku to be quite reliable at even complicated schemas."
   ]
  },
  {
   "cell_type": "markdown",
   "metadata": {},
   "source": [
    "## Install"
   ]
  },
  {
   "cell_type": "markdown",
   "metadata": {},
   "source": [
    "```sh\n",
    "pip install claudette_pydantic\n",
    "```"
   ]
  },
  {
   "cell_type": "markdown",
   "metadata": {},
   "source": [
    "## Getting Started"
   ]
  },
  {
   "cell_type": "code",
   "execution_count": 45,
   "metadata": {},
   "outputs": [],
   "source": [
    "from claudette.core import *\n",
    "import claudette_pydantic\n",
    "from pydantic import BaseModel, Field\n",
    "from typing import Literal, Union, List"
   ]
  },
  {
   "cell_type": "code",
   "execution_count": 46,
   "metadata": {},
   "outputs": [
    {
     "data": {
      "text/plain": [
       "'claude-3-haiku-20240307'"
      ]
     },
     "execution_count": 46,
     "metadata": {},
     "output_type": "execute_result"
    }
   ],
   "source": [
    "model = models[-1]\n",
    "model"
   ]
  },
  {
   "cell_type": "markdown",
   "metadata": {},
   "source": [
    "### Simple Model"
   ]
  },
  {
   "cell_type": "code",
   "execution_count": 47,
   "metadata": {},
   "outputs": [
    {
     "name": "stdout",
     "output_type": "stream",
     "text": [
      "Pet(name='Mac', age=14, owner='NA', type='dog')\n",
      "Pet(name='juma', age=16, owner='Tom', type='cat')\n"
     ]
    }
   ],
   "source": [
    "class Pet(BaseModel):\n",
    "    \"Create a new pet\"\n",
    "    name: str\n",
    "    age: int\n",
    "    owner: str = Field(default=\"NA\", description=\"Owner name. Do not return if not given.\")\n",
    "    type: Literal['dog', 'cat', 'mouse']\n",
    "\n",
    "c = Client(model)\n",
    "print(repr(c.struct(msgs=\"Can you make a pet for my dog Mac? He's 14 years old\", resp_model=Pet)))\n",
    "print(repr(c.struct(msgs=\"Tom: my cat is juma and he's 16 years old\", resp_model=Pet)))"
   ]
  },
  {
   "cell_type": "markdown",
   "metadata": {},
   "source": [
    "### Chat & Unions"
   ]
  },
  {
   "cell_type": "markdown",
   "metadata": {},
   "source": [
    "We can go way deeper, for example this one I pulled from [pydantic docs](https://docs.pydantic.dev/latest/concepts/unions/#discriminated-unions) has a list of discriminated unions, shown by `pet_type`. For each object the model is required to return different things.\n",
    "\n",
    "You should be able to use the full power of Pydantic here. I've found that instructor for Claude fails on this example.\n",
    "\n",
    "Each sub BaseModel may also have docstrings describing usage. I've found prompting this way to be quite reliable."
   ]
  },
  {
   "cell_type": "code",
   "execution_count": 54,
   "metadata": {},
   "outputs": [
    {
     "data": {
      "text/plain": [
       "OwnersPets(pet=[Dog(pet_type='dog', barks=6.0), Reptile(pet_type='dragon', scales=False), Cat(pet_type='cat', meows=2), Create(pet_type='create')])"
      ]
     },
     "execution_count": 54,
     "metadata": {},
     "output_type": "execute_result"
    }
   ],
   "source": [
    "class Cat(BaseModel):\n",
    "    pet_type: Literal['cat']\n",
    "    meows: int\n",
    "\n",
    "\n",
    "class Dog(BaseModel):\n",
    "    pet_type: Literal['dog']\n",
    "    barks: float\n",
    "\n",
    "\n",
    "class Reptile(BaseModel):\n",
    "    pet_type: Literal['lizard', 'dragon']\n",
    "    scales: bool\n",
    "\n",
    "# Dummy to show doc strings\n",
    "class Create(BaseModel):\n",
    "    \"Pass as final member of the `pet` list to indicate success\"\n",
    "    pet_type: Literal['create']\n",
    "\n",
    "class OwnersPets(BaseModel):\n",
    "    \"\"\"\n",
    "    Information for to gather for an Owner's pets\n",
    "    \"\"\"\n",
    "    pet: List[Union[Cat, Dog, Reptile, Create]] = Field(..., discriminator='pet_type')\n",
    "\n",
    "chat = Chat(model)\n",
    "pr = \"hello I am a new owner and I would like to add some pets for me. I have a dog which has 6 barks, a dragon with no scales, and a cat with 2 meows\"\n",
    "chat.struct(OwnersPets, pr=pr)"
   ]
  },
  {
   "cell_type": "code",
   "execution_count": 49,
   "metadata": {},
   "outputs": [
    {
     "data": {
      "text/plain": [
       "OwnersPets(pet=[Dog(pet_type='dog', barks=6.0), Reptile(pet_type='dragon', scales=True), Cat(pet_type='cat', meows=2)])"
      ]
     },
     "execution_count": 49,
     "metadata": {},
     "output_type": "execute_result"
    }
   ],
   "source": [
    "chat.struct(OwnersPets, pr=\"actually my dragon does have scales, can you change that for me?\")"
   ]
  },
  {
   "cell_type": "markdown",
   "metadata": {},
   "source": [
    "While the struct uses tool use to enforce the schema, we save in history as the `repr` response to keep the user,assistant,user flow."
   ]
  },
  {
   "cell_type": "code",
   "execution_count": 50,
   "metadata": {},
   "outputs": [
    {
     "data": {
      "text/plain": [
       "[{'role': 'user',\n",
       "  'content': [{'type': 'text',\n",
       "    'text': 'hello I am a new owner and I would like to add some pets for me. I have a dog which has 6 barks, a dragon with no scales, and a cat with 2 meows'}]},\n",
       " {'role': 'assistant',\n",
       "  'content': [{'type': 'text',\n",
       "    'text': \"OwnersPets(pet=[Dog(pet_type='dog', barks=6.0), Reptile(pet_type='dragon', scales=False), Cat(pet_type='cat', meows=2)])\"}]},\n",
       " {'role': 'user',\n",
       "  'content': [{'type': 'text',\n",
       "    'text': 'actually my dragon does have scales, can you change that for me?'}]},\n",
       " {'role': 'assistant',\n",
       "  'content': [{'type': 'text',\n",
       "    'text': \"OwnersPets(pet=[Dog(pet_type='dog', barks=6.0), Reptile(pet_type='dragon', scales=True), Cat(pet_type='cat', meows=2)])\"}]}]"
      ]
     },
     "execution_count": 50,
     "metadata": {},
     "output_type": "execute_result"
    }
   ],
   "source": [
    "chat.h"
   ]
  },
  {
   "cell_type": "markdown",
   "metadata": {},
   "source": [
    "Alternatively you can use struct as tool use flow with `treat_as_output=False` (but requires the next input to be assistant)"
   ]
  },
  {
   "cell_type": "code",
   "execution_count": 51,
   "metadata": {},
   "outputs": [
    {
     "data": {
      "text/plain": [
       "[{'role': 'user',\n",
       "  'content': [{'type': 'text',\n",
       "    'text': 'hello I am a new owner and I would like to add some pets for me. I have a dog which has 6 barks, a dragon with no scales, and a cat with 2 meows'}]},\n",
       " {'role': 'assistant',\n",
       "  'content': [ToolUseBlock(id='toolu_01QwvZBqPf5kwQX6vGUHD7tE', input={'pet': [{'pet_type': 'dog', 'barks': 6}, {'pet_type': 'dragon', 'scales': False}, {'pet_type': 'cat', 'meows': 2}]}, name='OwnersPets', type='tool_use')]},\n",
       " {'role': 'user',\n",
       "  'content': [{'type': 'tool_result',\n",
       "    'tool_use_id': 'toolu_01QwvZBqPf5kwQX6vGUHD7tE',\n",
       "    'content': \"pet=[Dog(pet_type='dog', barks=6.0), Reptile(pet_type='dragon', scales=False), Cat(pet_type='cat', meows=2)]\"}]}]"
      ]
     },
     "execution_count": 51,
     "metadata": {},
     "output_type": "execute_result"
    }
   ],
   "source": [
    "chat.struct(OwnersPets, pr=pr, treat_as_output=False)\n",
    "chat.h[-3:]"
   ]
  },
  {
   "cell_type": "markdown",
   "metadata": {},
   "source": [
    "(So I couldn't prompt it again here, next input would have to be an assistant)"
   ]
  },
  {
   "cell_type": "markdown",
   "metadata": {},
   "source": [
    "### User Creation & few-shot examples"
   ]
  },
  {
   "cell_type": "markdown",
   "metadata": {},
   "source": [
    "You can even add few shot examples _for each input_"
   ]
  },
  {
   "cell_type": "code",
   "execution_count": 52,
   "metadata": {},
   "outputs": [
    {
     "name": "stdout",
     "output_type": "stream",
     "text": [
      "age=22 name='tom' password='Monkey!123'\n"
     ]
    }
   ],
   "source": [
    "class User(BaseModel):\n",
    "    \"User creation tool\"\n",
    "    age: int = Field(description='Age of the user')\n",
    "    name: str = Field(title='Username')\n",
    "    password: str = Field(\n",
    "        json_schema_extra={\n",
    "            'title': 'Password',\n",
    "            'description': 'Password of the user',\n",
    "            'examples': ['Monkey!123'],\n",
    "        }\n",
    "    )\n",
    "res = c.struct(msgs=[\"Can you create me a new user for tom age 22\"], resp_model=User, sp=\"for a given user, generate a similar password based on examples\")\n",
    "print(res)"
   ]
  },
  {
   "cell_type": "markdown",
   "metadata": {},
   "source": [
    "Uses the few-shot example as asked for in the system prompt."
   ]
  },
  {
   "cell_type": "markdown",
   "metadata": {},
   "source": [
    "## Signature:\n",
    "\n",
    "```python\n",
    "Client.struct(\n",
    "    self: claudette.core.Client,\n",
    "    msgs: list,\n",
    "    resp_model: type[BaseModel], # non-initialized Pydantic BaseModel\n",
    "    **, # Client.__call__ kwargs...\n",
    ") -> BaseModel\n",
    "\n",
    "```\n",
    "\n",
    "```python\n",
    "Chat.struct(\n",
    "    self: claudette.core.Chat,\n",
    "    resp_model: type[BaseModel], # non-initialized Pydantic BaseModel\n",
    "    treat_as_output=True, # In chat history, tool is reflected\n",
    "    **, # Chat.__call__ kwargs...\n",
    ") -> BaseModel\n",
    "```\n"
   ]
  },
  {
   "cell_type": "code",
   "execution_count": 82,
   "metadata": {},
   "outputs": [],
   "source": [
    "from pydantic import BaseModel, Field\n",
    "from typing import Literal, List\n",
    "\n",
    "class Fish(BaseModel):\n",
    "    \"\"\"\n",
    "    Represent a fish for sale. When suggesting a fish:\n",
    "    - Highlight its unique features and care requirements\n",
    "    - Mention its personality traits\n",
    "    - Suggest a name from the examples, as if you're naming it for the customer\n",
    "    \"\"\"\n",
    "    resp_type: Literal['fish']\n",
    "    species: str\n",
    "    name: str = Field(\n",
    "        description=\"Suggested name for the fish\",\n",
    "        json_schema_extra={\n",
    "            \"examples\": [\"Bubbles\", \"Finn\", \"Nemo\", \"Splash\", \"Goldie\"]\n",
    "        }\n",
    "    )\n",
    "    tank_size: float = Field(description=\"Recommended tank size in gallons\")\n",
    "    temperament: str = Field(description=\"Fish's general behavior and compatibility\")\n",
    "    lifespan: str = Field(description=\"Expected lifespan of the fish\")\n",
    "\n",
    "class CustomerResponse(BaseModel):\n",
    "    \"\"\"\n",
    "    Represent the customer's response. When speaking as the customer:\n",
    "    - Express interest or concerns about the suggested fish\n",
    "    - Ask questions about care, feeding, or compatibility\n",
    "    - Show enthusiasm or hesitation based on the information provided\n",
    "    \"\"\"\n",
    "    resp_type: Literal['customer']\n",
    "    response: str\n",
    "\n",
    "class SalespersonResponse(BaseModel):\n",
    "    \"\"\"\n",
    "    Represent the salesperson's response. When speaking as the salesperson:\n",
    "    - Address the customer's questions or concerns\n",
    "    - Provide additional information about fish care\n",
    "    - Suggest accessories or additional fish that might be compatible\n",
    "    - Use a friendly and informative tone to build trust\n",
    "    \"\"\"\n",
    "    resp_type: Literal['sales']\n",
    "    response: str\n",
    "\n",
    "class FishStoreConversation(BaseModel):\n",
    "    \"\"\"\n",
    "    Simulate a conversation between a customer and a salesperson in a fish store.\n",
    "    The conversation should flow naturally, with the salesperson suggesting fish\n",
    "    and the customer responding. Use the Fish, CustomerResponse, and SalespersonResponse\n",
    "    models alternately to create a realistic dialogue.\n",
    "    \"\"\"\n",
    "    conversation: List[Union[Fish, CustomerResponse, SalespersonResponse]] = Field(..., discriminator='resp_type')"
   ]
  },
  {
   "cell_type": "code",
   "execution_count": 83,
   "metadata": {},
   "outputs": [
    {
     "name": "stdout",
     "output_type": "stream",
     "text": [
      "FishStoreConversation(conversation=[Fish(resp_type='fish', species='Betta Fish', name='Bubbles', tank_size=5.0, temperament='Peaceful but territorial, does well in a small tank on its own', lifespan='2-5 years'), CustomerResponse(resp_type='customer', response=\"Ooh, a Betta fish sounds interesting! I've heard they have beautiful fins. How much space do they need and what kind of care do they require?\"), SalespersonResponse(resp_type='sales', response=\"Betta fish are a great choice for a small apartment! They only need a 5 gallon tank, which is perfect for your space. They're relatively low maintenance - just need their water changed a couple times a week and some fish flakes to eat. Their long, flowing fins make them very eye-catching. And they have such fun personalities, they can be quite interactive with their owners. What do you think, does a Betta sound like a good fit?\"), CustomerResponse(resp_type='customer', response='That sounds perfect! I love the idea of having a little fish friend to keep me company. A 5 gallon tank is manageable for my apartment. Do Bettas get along with other fish or do they need to be on their own?'), SalespersonResponse(resp_type='sales', response=\"Bettas are generally best kept on their own. They can be quite territorial and may fight with other fish, especially those with long, flowing fins like themselves. I'd recommend setting up a nice 5 gallon tank just for your Betta. You could add some live plants or decorations for them to explore, but no tank mates. That way you can really focus on giving your Betta the best care and attention. Does that sound like a good plan?\")])\n"
     ]
    }
   ],
   "source": [
    "from claudette.core import *\n",
    "import claudette_pydantic\n",
    "\n",
    "model = models[-1]  # Use the latest model\n",
    "chat = Chat(model)\n",
    "\n",
    "# Start the conversation\n",
    "initial_prompt = \"I'm interested in buying a fish for my new apartment. Can you help me choose one?\"\n",
    "\n",
    "result = chat.struct(\n",
    "    FishStoreConversation,\n",
    "    pr=initial_prompt,\n",
    "    sp=\"Simulate a conversation between a fish store salesperson and a customer. The salesperson should suggest a fish, and the conversation should continue for a few exchanges. Use the docstrings to guide the conversation flow and content.\"\n",
    ")\n",
    "\n",
    "print(repr(result))"
   ]
  },
  {
   "cell_type": "code",
   "execution_count": 96,
   "metadata": {},
   "outputs": [
    {
     "name": "stdout",
     "output_type": "stream",
     "text": [
      "{\"conversation\":[{\"resp_type\":\"fish\",\"species\":\"Betta Fish\",\"name\":\"Bubbles\",\"tank_size\":5.0,\"temperament\":\"Peaceful but territorial, does well in a small tank on its own\",\"lifespan\":\"2-5 years\"},{\"resp_type\":\"customer\",\"response\":\"Ooh, a Betta fish sounds interesting! I've heard they have beautiful fins. How much space do they need and what kind of care do they require?\"},{\"resp_type\":\"sales\",\"response\":\"Betta fish are a great choice for a small apartment! They only need a 5 gallon tank, which is perfect for your space. They're relatively low maintenance - just need their water changed a couple times a week and some fish flakes to eat. Their long, flowing fins make them very eye-catching. And they have such fun personalities, they can be quite interactive with their owners. What do you think, does a Betta sound like a good fit?\"},{\"resp_type\":\"customer\",\"response\":\"That sounds perfect! I love the idea of having a little fish friend to keep me company. A 5 gallon tank is manageable for my apartment. Do Bettas get along with other fish or do they need to be on their own?\"},{\"resp_type\":\"sales\",\"response\":\"Bettas are generally best kept on their own. They can be quite territorial and may fight with other fish, especially those with long, flowing fins like themselves. I'd recommend setting up a nice 5 gallon tank just for your Betta. You could add some live plants or decorations for them to explore, but no tank mates. That way you can really focus on giving your Betta the best care and attention. Does that sound like a good plan?\"}]}\n"
     ]
    }
   ],
   "source": [
    "print(result.json())"
   ]
  },
  {
   "cell_type": "code",
   "execution_count": 99,
   "metadata": {},
   "outputs": [
    {
     "name": "stdout",
     "output_type": "stream",
     "text": [
      "{\n",
      "  \"conversation\": [\n",
      "    {\n",
      "      \"resp_type\": \"fish\",\n",
      "      \"species\": \"Betta Fish\",\n",
      "      \"name\": \"Bubbles\",\n",
      "      \"tank_size\": 5.0,\n",
      "      \"temperament\": \"Peaceful but territorial, does well in a small tank on its own\",\n",
      "      \"lifespan\": \"2-5 years\"\n",
      "    },\n",
      "    {\n",
      "      \"resp_type\": \"customer\",\n",
      "      \"response\": \"Ooh, a Betta fish sounds interesting! I've heard they have beautiful fins. How much space do they need and what kind of care do they require?\"\n",
      "    },\n",
      "    {\n",
      "      \"resp_type\": \"sales\",\n",
      "      \"response\": \"Betta fish are a great choice for a small apartment! They only need a 5 gallon tank, which is perfect for your space. They're relatively low maintenance - just need their water changed a couple times a week and some fish flakes to eat. Their long, flowing fins make them very eye-catching. And they have such fun personalities, they can be quite interactive with their owners. What do you think, does a Betta sound like a good fit?\"\n",
      "    },\n",
      "    {\n",
      "      \"resp_type\": \"customer\",\n",
      "      \"response\": \"That sounds perfect! I love the idea of having a little fish friend to keep me company. A 5 gallon tank is manageable for my apartment. Do Bettas get along with other fish or do they need to be on their own?\"\n",
      "    },\n",
      "    {\n",
      "      \"resp_type\": \"sales\",\n",
      "      \"response\": \"Bettas are generally best kept on their own. They can be quite territorial and may fight with other fish, especially those with long, flowing fins like themselves. I'd recommend setting up a nice 5 gallon tank just for your Betta. You could add some live plants or decorations for them to explore, but no tank mates. That way you can really focus on giving your Betta the best care and attention. Does that sound like a good plan?\"\n",
      "    }\n",
      "  ]\n",
      "}\n"
     ]
    }
   ],
   "source": [
    "import json\n",
    "print(json.dumps(json.loads(result.json()), indent=2))"
   ]
  }
 ],
 "metadata": {
  "kernelspec": {
   "display_name": "python3",
   "language": "python",
   "name": "python3"
  },
  "language_info": {
   "codemirror_mode": {
    "name": "ipython",
    "version": 3
   },
   "file_extension": ".py",
   "mimetype": "text/x-python",
   "name": "python",
   "nbconvert_exporter": "python",
   "pygments_lexer": "ipython3",
   "version": "3.11.9"
  }
 },
 "nbformat": 4,
 "nbformat_minor": 4
}
