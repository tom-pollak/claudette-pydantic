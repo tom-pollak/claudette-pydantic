{
 "cells": [
  {
   "cell_type": "markdown",
   "metadata": {},
   "source": [
    "# claudette-pydantic\n",
    "\n",
    "> "
   ]
  },
  {
   "cell_type": "markdown",
   "metadata": {},
   "source": [
    "> Adds Pydantic support for [claudette](https://github.com/AnswerDotAI/claudette) through function calling\n"
   ]
  },
  {
   "cell_type": "markdown",
   "metadata": {},
   "source": [
    "claudette_pydantic provides the `struct` method in the `Client` and `Chat` of claudette\n",
    "\n",
    "`struct` provides a wrapper around `__call__`. Provide a "
   ]
  },
  {
   "cell_type": "markdown",
   "metadata": {},
   "source": [
    "## Install"
   ]
  },
  {
   "cell_type": "markdown",
   "metadata": {},
   "source": [
    "```sh\n",
    "pip install claudette_pydantic\n",
    "```"
   ]
  },
  {
   "cell_type": "markdown",
   "metadata": {},
   "source": [
    "## Getting Started"
   ]
  },
  {
   "cell_type": "code",
   "execution_count": 2,
   "metadata": {},
   "outputs": [],
   "source": [
    "from claudette.core import *\n",
    "import claudette_pydantic\n",
    "from pydantic import BaseModel, Field, ValidationError\n",
    "from typing import Literal, Union, List, Optional"
   ]
  },
  {
   "cell_type": "code",
   "execution_count": 3,
   "metadata": {},
   "outputs": [
    {
     "data": {
      "text/plain": [
       "'claude-3-haiku-20240307'"
      ]
     },
     "execution_count": 3,
     "metadata": {},
     "output_type": "execute_result"
    }
   ],
   "source": [
    "model = models[-1]\n",
    "model"
   ]
  },
  {
   "cell_type": "code",
   "execution_count": 4,
   "metadata": {},
   "outputs": [
    {
     "name": "stdout",
     "output_type": "stream",
     "text": [
      "Pet(name='Mac', age=14, owner='NA', type='dog')\n",
      "Pet(name='juma', age=16, owner='Tom', type='cat')\n"
     ]
    }
   ],
   "source": [
    "class Pet(BaseModel):\n",
    "    \"Create a new pet\"\n",
    "    name: str\n",
    "    age: int\n",
    "    owner: str = Field(default=\"NA\", description=\"Owner name. Do not return if not given.\")\n",
    "    type: Literal['dog', 'cat', 'mouse']\n",
    "\n",
    "c = Client(model)\n",
    "print(repr(c.struct(msgs=\"Can you make a pet for my dog Mac? He's 14 years old\", resp_model=Pet)))\n",
    "print(repr(c.struct(msgs=\"Tom: my cat is juma and he's 16 years old\", resp_model=Pet)))"
   ]
  },
  {
   "cell_type": "markdown",
   "metadata": {},
   "source": [
    "We can go way deeper, for example this one I pulled from [pydantic docs](https://docs.pydantic.dev/latest/concepts/unions/#discriminated-unions)"
   ]
  },
  {
   "cell_type": "code",
   "execution_count": 35,
   "metadata": {},
   "outputs": [
    {
     "data": {
      "text/plain": [
       "OwnersPets(pet=[Dog(pet_type='dog', barks=6.0), Reptile(pet_type='dragon', scales=False), Cat(pet_type='cat', meows=2)])"
      ]
     },
     "execution_count": 35,
     "metadata": {},
     "output_type": "execute_result"
    }
   ],
   "source": [
    "class Cat(BaseModel):\n",
    "    pet_type: Literal['cat']\n",
    "    meows: int\n",
    "\n",
    "\n",
    "class Dog(BaseModel):\n",
    "    pet_type: Literal['dog']\n",
    "    barks: float\n",
    "\n",
    "\n",
    "class Reptile(BaseModel):\n",
    "    pet_type: Literal['lizard', 'dragon']\n",
    "    scales: bool\n",
    "\n",
    "\n",
    "class OwnersPets(BaseModel):\n",
    "    \"\"\"\n",
    "    Information for to gather for an Owner's pets\n",
    "    \"\"\"\n",
    "    pet: List[Union[Cat, Dog, Reptile]] = Field(..., discriminator='pet_type')\n",
    "\n",
    "chat = Chat(model)\n",
    "pr = \"hello I am a new owner and I would like to add some pets for me. I have a dog which has 6 barks, a dragon with no scales, and a cat with 2 meows\"\n",
    "chat.struct(OwnersPets, pr=pr)"
   ]
  },
  {
   "cell_type": "markdown",
   "metadata": {},
   "source": [
    "While the struct uses tool use to enforce the schema, we save the tool use as json to keep the user,assistant,user flow."
   ]
  },
  {
   "cell_type": "code",
   "execution_count": 36,
   "metadata": {},
   "outputs": [
    {
     "data": {
      "text/plain": [
       "[{'role': 'user',\n",
       "  'content': [{'type': 'text',\n",
       "    'text': 'hello I am a new owner and I would like to add some pets for me. I have a dog which has 6 barks, a dragon with no scales, and a cat with 2 meows'}]},\n",
       " {'role': 'assistant',\n",
       "  'content': [{'type': 'text',\n",
       "    'text': \"OwnersPets(pet=[Dog(pet_type='dog', barks=6.0), Reptile(pet_type='dragon', scales=False), Cat(pet_type='cat', meows=2)])\"}]}]"
      ]
     },
     "execution_count": 36,
     "metadata": {},
     "output_type": "execute_result"
    }
   ],
   "source": [
    "chat.h"
   ]
  },
  {
   "cell_type": "markdown",
   "metadata": {},
   "source": [
    "Continue the conversation..."
   ]
  },
  {
   "cell_type": "code",
   "execution_count": 38,
   "metadata": {},
   "outputs": [
    {
     "data": {
      "text/plain": [
       "OwnersPets(pet=[Dog(pet_type='dog', barks=6.0), Reptile(pet_type='dragon', scales=True), Cat(pet_type='cat', meows=2)])"
      ]
     },
     "execution_count": 38,
     "metadata": {},
     "output_type": "execute_result"
    }
   ],
   "source": [
    "chat.struct(OwnersPets, pr=\"actually my dragon does have scales, can you change that for me?\")"
   ]
  },
  {
   "cell_type": "markdown",
   "metadata": {},
   "source": [
    "Alternatively you can use the original tool use flow with `treat_as_output=False` (but requires the next input to be assistant)"
   ]
  },
  {
   "cell_type": "code",
   "execution_count": 39,
   "metadata": {},
   "outputs": [
    {
     "data": {
      "text/plain": [
       "[{'role': 'user',\n",
       "  'content': [{'type': 'text',\n",
       "    'text': 'hello I am a new owner and I would like to add some pets for me. I have a dog which has 6 barks, a dragon with no scales, and a cat with 2 meows'}]},\n",
       " {'role': 'assistant',\n",
       "  'content': [ToolUseBlock(id='toolu_015Kyxycj43DBej69qRZ8jaL', input={'pet': [{'pet_type': 'dog', 'barks': 6}, {'pet_type': 'dragon', 'scales': False}, {'pet_type': 'cat', 'meows': 2}]}, name='OwnersPets', type='tool_use')]},\n",
       " {'role': 'user',\n",
       "  'content': [{'type': 'tool_result',\n",
       "    'tool_use_id': 'toolu_015Kyxycj43DBej69qRZ8jaL',\n",
       "    'content': \"pet=[Dog(pet_type='dog', barks=6.0), Reptile(pet_type='dragon', scales=False), Cat(pet_type='cat', meows=2)]\"}]}]"
      ]
     },
     "execution_count": 39,
     "metadata": {},
     "output_type": "execute_result"
    }
   ],
   "source": [
    "chat.struct(OwnersPets, pr=pr, treat_as_output=False)\n",
    "chat.h[-3:]"
   ]
  },
  {
   "cell_type": "markdown",
   "metadata": {},
   "source": [
    "You can even add few shot examples _for each input_"
   ]
  },
  {
   "cell_type": "code",
   "execution_count": 43,
   "metadata": {},
   "outputs": [
    {
     "name": "stdout",
     "output_type": "stream",
     "text": [
      "age=22 name='tom' password='Monkey!123'\n"
     ]
    }
   ],
   "source": [
    "class User(BaseModel):\n",
    "    \"User creation tool\"\n",
    "    age: int = Field(description='Age of the user')\n",
    "    name: str = Field(title='Username')\n",
    "    password: str = Field(\n",
    "        json_schema_extra={\n",
    "            'title': 'Password',\n",
    "            'description': 'Password of the user',\n",
    "            'examples': ['Monkey!123'],\n",
    "        }\n",
    "    )\n",
    "res = c.struct(msgs=[\"Can you create me a new user for tom age 22\"], resp_model=User, sp=\"for a given user, generate a similar password based on examples\")\n",
    "print(res)"
   ]
  },
  {
   "cell_type": "markdown",
   "metadata": {},
   "source": [
    "### Signature:\n",
    "\n",
    "```python\n",
    "Client.struct(\n",
    "    self: claudette.core.Client,\n",
    "    msgs: list,\n",
    "    resp_model: type[BaseModel], # non-initialized Pydantic BaseModel\n",
    "    **, # Client.__call__ kwargs...\n",
    ") -> BaseModel\n",
    "\n",
    "```\n",
    "\n",
    "```python\n",
    "Chat.struct(\n",
    "    self: claudette.core.Chat,\n",
    "    resp_model: type[BaseModel], # non-initialized Pydantic BaseModel\n",
    "    treat_as_output=True, # In chat history, tool is reflected\n",
    "    **, # Chat.__call__ kwargs...\n",
    ") -> BaseModel\n",
    "```\n"
   ]
  }
 ],
 "metadata": {
  "kernelspec": {
   "display_name": "python3",
   "language": "python",
   "name": "python3"
  },
  "language_info": {
   "codemirror_mode": {
    "name": "ipython",
    "version": 3
   },
   "file_extension": ".py",
   "mimetype": "text/x-python",
   "name": "python",
   "nbconvert_exporter": "python",
   "pygments_lexer": "ipython3",
   "version": "3.11.9"
  }
 },
 "nbformat": 4,
 "nbformat_minor": 4
}
