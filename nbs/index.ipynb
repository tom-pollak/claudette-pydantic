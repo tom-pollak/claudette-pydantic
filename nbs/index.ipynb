{
 "cells": [
  {
   "cell_type": "markdown",
   "metadata": {},
   "source": [
    "# claudette-pydantic\n",
    "\n",
    "> "
   ]
  },
  {
   "cell_type": "markdown",
   "metadata": {},
   "source": [
    "> Adds Pydantic support for [claudette](https://github.com/AnswerDotAI/claudette) through function calling\n"
   ]
  },
  {
   "cell_type": "markdown",
   "metadata": {},
   "source": [
    "claudette_pydantic provides the `struct` method in the `Client` and `Chat` of claudette\n",
    "\n",
    "`struct` provides a wrapper around `__call__`. Provide a Pydantic `BaseModel` as schema, and the model will return an initialized `BaseModel` object.\n",
    "\n",
    "I've found Haiku to be quite reliable at even complicated schemas."
   ]
  },
  {
   "cell_type": "markdown",
   "metadata": {},
   "source": [
    "## Install"
   ]
  },
  {
   "cell_type": "markdown",
   "metadata": {},
   "source": [
    "```sh\n",
    "pip install claudette-pydantic\n",
    "```"
   ]
  },
  {
   "cell_type": "markdown",
   "metadata": {},
   "source": [
    "## Getting Started"
   ]
  },
  {
   "cell_type": "code",
   "execution_count": null,
   "metadata": {},
   "outputs": [],
   "source": [
    "from claudette.core import *\n",
    "import claudette_pydantic # patches claudette with `struct`\n",
    "from pydantic import BaseModel, Field\n",
    "from typing import Literal, Union, List"
   ]
  },
  {
   "cell_type": "code",
   "execution_count": null,
   "metadata": {},
   "outputs": [
    {
     "data": {
      "text/plain": [
       "'claude-3-haiku-20240307'"
      ]
     },
     "execution_count": null,
     "metadata": {},
     "output_type": "execute_result"
    }
   ],
   "source": [
    "model = models[-1]\n",
    "model"
   ]
  },
  {
   "cell_type": "code",
   "execution_count": null,
   "metadata": {},
   "outputs": [
    {
     "name": "stdout",
     "output_type": "stream",
     "text": [
      "Pet(name='Mac', age=14, owner='NA', type='dog')\n",
      "Pet(name='juma', age=16, owner='Tom', type='cat')\n"
     ]
    }
   ],
   "source": [
    "class Pet(BaseModel):\n",
    "    \"Create a new pet\"\n",
    "    name: str\n",
    "    age: int\n",
    "    owner: str = Field(default=\"NA\", description=\"Owner name. Do not return if not given.\")\n",
    "    type: Literal['dog', 'cat', 'mouse']\n",
    "\n",
    "c = Client(model)\n",
    "print(repr(c.struct(msgs=\"Can you make a pet for my dog Mac? He's 14 years old\", resp_model=Pet)))\n",
    "print(repr(c.struct(msgs=\"Tom: my cat is juma and he's 16 years old\", resp_model=Pet)))"
   ]
  },
  {
   "cell_type": "markdown",
   "metadata": {},
   "source": [
    "## Going Deeper"
   ]
  },
  {
   "cell_type": "markdown",
   "metadata": {},
   "source": [
    "I pulled this example from [pydantic docs](https://docs.pydantic.dev/latest/concepts/unions/#discriminated-unions) has a list of discriminated unions, shown by `pet_type`. For each object the model is required to return different things.\n",
    "\n",
    "You should be able to use the full power of Pydantic here. I've found that instructor for Claude fails on this example.\n",
    "\n",
    "Each sub BaseModel may also have docstrings describing usage. I've found prompting this way to be quite reliable."
   ]
  },
  {
   "cell_type": "code",
   "execution_count": null,
   "metadata": {},
   "outputs": [
    {
     "name": "stdout",
     "output_type": "stream",
     "text": [
      "OwnersPets(pet=[Dog(pet_type='dog', barks=6.0), Reptile(pet_type='dragon', scales=False), Cat(pet_type='cat', meows=2), Create(pet_type='create')])\n",
      "OwnersPets(pet=[Dog(pet_type='dog', barks=6.0), Reptile(pet_type='dragon', scales=True), Cat(pet_type='cat', meows=2), Create(pet_type='create')])\n"
     ]
    }
   ],
   "source": [
    "class Cat(BaseModel):\n",
    "    pet_type: Literal['cat']\n",
    "    meows: int\n",
    "\n",
    "\n",
    "class Dog(BaseModel):\n",
    "    pet_type: Literal['dog']\n",
    "    barks: float\n",
    "\n",
    "\n",
    "class Reptile(BaseModel):\n",
    "    pet_type: Literal['lizard', 'dragon']\n",
    "    scales: bool\n",
    "\n",
    "# Dummy to show doc strings\n",
    "class Create(BaseModel):\n",
    "    \"Pass as final member of the `pet` list to indicate success\"\n",
    "    pet_type: Literal['create']\n",
    "\n",
    "class OwnersPets(BaseModel):\n",
    "    \"\"\"\n",
    "    Information for to gather for an Owner's pets\n",
    "    \"\"\"\n",
    "    pet: List[Union[Cat, Dog, Reptile, Create]] = Field(..., discriminator='pet_type')\n",
    "\n",
    "chat = Chat(model)\n",
    "pr = \"hello I am a new owner and I would like to add some pets for me. I have a dog which has 6 barks, a dragon with no scales, and a cat with 2 meows\"\n",
    "print(repr(chat.struct(OwnersPets, pr=pr)))\n",
    "print(repr(chat.struct(OwnersPets, pr=\"actually my dragon does have scales, can you change that for me?\")))"
   ]
  },
  {
   "cell_type": "markdown",
   "metadata": {},
   "source": [
    "While the struct uses tool use to enforce the schema, we save in history as the `repr` response to keep the user,assistant,user flow."
   ]
  },
  {
   "cell_type": "code",
   "execution_count": null,
   "metadata": {},
   "outputs": [
    {
     "data": {
      "text/plain": [
       "[{'role': 'user',\n",
       "  'content': [{'type': 'text',\n",
       "    'text': 'hello I am a new owner and I would like to add some pets for me. I have a dog which has 6 barks, a dragon with no scales, and a cat with 2 meows'}]},\n",
       " {'role': 'assistant',\n",
       "  'content': [{'type': 'text',\n",
       "    'text': \"OwnersPets(pet=[Dog(pet_type='dog', barks=6.0), Reptile(pet_type='dragon', scales=False), Cat(pet_type='cat', meows=2), Create(pet_type='create')])\"}]},\n",
       " {'role': 'user',\n",
       "  'content': [{'type': 'text',\n",
       "    'text': 'actually my dragon does have scales, can you change that for me?'}]},\n",
       " {'role': 'assistant',\n",
       "  'content': [{'type': 'text',\n",
       "    'text': \"OwnersPets(pet=[Dog(pet_type='dog', barks=6.0), Reptile(pet_type='dragon', scales=True), Cat(pet_type='cat', meows=2), Create(pet_type='create')])\"}]}]"
      ]
     },
     "execution_count": null,
     "metadata": {},
     "output_type": "execute_result"
    }
   ],
   "source": [
    "chat.h"
   ]
  },
  {
   "cell_type": "markdown",
   "metadata": {},
   "source": [
    "Alternatively you can use struct as tool use flow with `treat_as_output=False` (but requires the next input to be assistant)"
   ]
  },
  {
   "cell_type": "code",
   "execution_count": null,
   "metadata": {},
   "outputs": [
    {
     "data": {
      "text/plain": [
       "[{'role': 'user',\n",
       "  'content': [{'type': 'text',\n",
       "    'text': 'hello I am a new owner and I would like to add some pets for me. I have a dog which has 6 barks, a dragon with no scales, and a cat with 2 meows'}]},\n",
       " {'role': 'assistant',\n",
       "  'content': [ToolUseBlock(id='toolu_015ggQ1iH6BxBffd7erj3rjR', input={'pet': [{'pet_type': 'dog', 'barks': 6.0}, {'pet_type': 'dragon', 'scales': False}, {'pet_type': 'cat', 'meows': 2}]}, name='OwnersPets', type='tool_use')]},\n",
       " {'role': 'user',\n",
       "  'content': [{'type': 'tool_result',\n",
       "    'tool_use_id': 'toolu_015ggQ1iH6BxBffd7erj3rjR',\n",
       "    'content': \"OwnersPets(pet=[Dog(pet_type='dog', barks=6.0), Reptile(pet_type='dragon', scales=False), Cat(pet_type='cat', meows=2)])\"}]}]"
      ]
     },
     "execution_count": null,
     "metadata": {},
     "output_type": "execute_result"
    }
   ],
   "source": [
    "chat.struct(OwnersPets, pr=pr, treat_as_output=False)\n",
    "chat.h[-3:]"
   ]
  },
  {
   "cell_type": "markdown",
   "metadata": {},
   "source": [
    "(So I couldn't prompt it again here, next input would have to be an assistant)"
   ]
  },
  {
   "cell_type": "markdown",
   "metadata": {},
   "source": [
    "### User Creation & few-shot examples"
   ]
  },
  {
   "cell_type": "markdown",
   "metadata": {},
   "source": [
    "You can even add few shot examples _for each input_"
   ]
  },
  {
   "cell_type": "code",
   "execution_count": null,
   "metadata": {},
   "outputs": [
    {
     "name": "stdout",
     "output_type": "stream",
     "text": [
      "User(age=22, name='tom', password='Monkey!123')\n"
     ]
    }
   ],
   "source": [
    "class User(BaseModel):\n",
    "    \"User creation tool\"\n",
    "    age: int = Field(description='Age of the user')\n",
    "    name: str = Field(title='Username')\n",
    "    password: str = Field(\n",
    "        json_schema_extra={\n",
    "            'title': 'Password',\n",
    "            'description': 'Password of the user',\n",
    "            'examples': ['Monkey!123'],\n",
    "        }\n",
    "    )\n",
    "print(repr(c.struct(msgs=[\"Can you create me a new user for tom age 22\"], resp_model=User, sp=\"for a given user, generate a similar password based on examples\")))"
   ]
  },
  {
   "cell_type": "markdown",
   "metadata": {},
   "source": [
    "Uses the few-shot example as asked for in the system prompt."
   ]
  },
  {
   "cell_type": "markdown",
   "metadata": {},
   "source": [
    "### You can find more examples [nbs/examples](nbs/examples)"
   ]
  },
  {
   "cell_type": "markdown",
   "metadata": {},
   "source": [
    "## Signature:\n",
    "\n",
    "```python\n",
    "Client.struct(\n",
    "    self: claudette.core.Client,\n",
    "    msgs: list,\n",
    "    resp_model: type[BaseModel], # non-initialized Pydantic BaseModel\n",
    "    **, # Client.__call__ kwargs...\n",
    ") -> BaseModel\n",
    "\n",
    "```\n",
    "\n",
    "```python\n",
    "Chat.struct(\n",
    "    self: claudette.core.Chat,\n",
    "    resp_model: type[BaseModel], # non-initialized Pydantic BaseModel\n",
    "    treat_as_output=True, # In chat history, tool is reflected\n",
    "    **, # Chat.__call__ kwargs...\n",
    ") -> BaseModel\n",
    "```\n"
   ]
  }
 ],
 "metadata": {
  "kernelspec": {
   "display_name": "python3",
   "language": "python",
   "name": "python3"
  },
  "language_info": {
   "name": "python",
   "version": "3.11.9"
  }
 },
 "nbformat": 4,
 "nbformat_minor": 4
}
