{
 "cells": [
  {
   "cell_type": "markdown",
   "metadata": {},
   "source": [
    "# claudette-pydantic\n",
    "\n",
    "> "
   ]
  },
  {
   "cell_type": "markdown",
   "metadata": {},
   "source": [
    "> Adds Pydantic support for [claudette](https://github.com/AnswerDotAI/claudette) through function calling\n"
   ]
  },
  {
   "cell_type": "markdown",
   "metadata": {},
   "source": [
    "## Install"
   ]
  },
  {
   "cell_type": "markdown",
   "metadata": {},
   "source": [
    "```sh\n",
    "pip install claudette_pydantic\n",
    "```"
   ]
  },
  {
   "cell_type": "markdown",
   "metadata": {},
   "source": [
    "## Getting Started"
   ]
  },
  {
   "cell_type": "markdown",
   "metadata": {},
   "source": [
    "claudette_pydantic patches the `struct` method in the `Client` and `Chat` of claudette"
   ]
  },
  {
   "cell_type": "code",
   "execution_count": null,
   "metadata": {},
   "outputs": [],
   "source": [
    "from claudette.core import *\n",
    "import claudette_pydantic\n",
    "from pydantic import BaseModel, Field, ValidationError\n",
    "from typing import Literal, Union, List, Optional"
   ]
  },
  {
   "cell_type": "code",
   "execution_count": null,
   "metadata": {},
   "outputs": [
    {
     "data": {
      "text/plain": [
       "'claude-3-haiku-20240307'"
      ]
     },
     "execution_count": null,
     "metadata": {},
     "output_type": "execute_result"
    }
   ],
   "source": [
    "model = models[-1]\n",
    "model"
   ]
  },
  {
   "cell_type": "code",
   "execution_count": null,
   "metadata": {},
   "outputs": [],
   "source": [
    "\n",
    "class Pet(BaseModel):\n",
    "    \"Create a new pet\"\n",
    "    name: str\n",
    "    age: int\n",
    "    owner: str = Field(default=\"NA\", description=\"Owner name. Do not return if not given.\")\n",
    "    type: Literal['dog', 'cat', 'mouse']"
   ]
  },
  {
   "cell_type": "code",
   "execution_count": null,
   "metadata": {},
   "outputs": [
    {
     "data": {
      "text/plain": [
       "Pet(name='Mac', age=14, owner='NA', type='dog')"
      ]
     },
     "execution_count": null,
     "metadata": {},
     "output_type": "execute_result"
    }
   ],
   "source": [
    "c = Client(model)\n",
    "c.struct(msgs=\"Can you make a pet for my dog Mac? He's an old boy (14 years old!)\", resp_model=Pet)"
   ]
  },
  {
   "cell_type": "code",
   "execution_count": null,
   "metadata": {},
   "outputs": [
    {
     "data": {
      "text/plain": [
       "{'name': 'Mac', 'age': 14, 'type': 'dog', 'owner': 'NA'}"
      ]
     },
     "execution_count": null,
     "metadata": {},
     "output_type": "execute_result"
    }
   ],
   "source": [
    "c.result.content[0].input"
   ]
  },
  {
   "cell_type": "code",
   "execution_count": null,
   "metadata": {},
   "outputs": [],
   "source": [
    "class Cat(BaseModel):\n",
    "    pet_type: Literal['cat']\n",
    "    meows: int\n",
    "\n",
    "\n",
    "class Dog(BaseModel):\n",
    "    pet_type: Literal['dog']\n",
    "    barks: float\n",
    "\n",
    "\n",
    "class Reptile(BaseModel):\n",
    "    pet_type: Literal['lizard', 'dragon']\n",
    "    scales: bool\n",
    "\n",
    "\n",
    "class OwnersPets(BaseModel):\n",
    "    \"List of pets that for an owner\"\n",
    "    pet: List[Union[Cat, Dog, Lizard]] = Field(..., discriminator='pet_type')\n",
    "\n"
   ]
  },
  {
   "cell_type": "code",
   "execution_count": null,
   "metadata": {},
   "outputs": [],
   "source": [
    "class ChatResponse(BaseModel):\n",
    "    response_type: Literal['message']\n",
    "    message: str = Field(description=\"Support response to the user query.\")\n",
    "\n",
    "class ChatResult(BaseModel):\n",
    "    response_type: Literal['finish']\n",
    "    success: bool = Field(description=\"Respond if the owner has given all the information to check in their pets, *or* cacnelled the process\")\n",
    "\n",
    "class SupportRequest(BaseModel):\n",
    "    \"Respond to a owner request\"\n",
    "    res: Union[ChatResponse, ChatResult] = Field(..., discriminator='response_type')"
   ]
  },
  {
   "cell_type": "code",
   "execution_count": null,
   "metadata": {},
   "outputs": [
    {
     "name": "stdout",
     "output_type": "stream",
     "text": [
      "res=ChatResponse(response_type='message', message=\"Hello and welcome! I'd be happy to help you add your pets. However, I need to clarify a few things about the information you've provided. We typically don't measure pets by their barks, scales, or meows. Let's go through your pets one by one to get the information we need:\\n\\n1. Your dog: We'll need information like its name, breed, age, and any specific care instructions.\\n2. Your dragon: I'm afraid we don't actually accommodate dragons as pets in our system. Could you clarify if this is a specific type of reptile or if it's a stuffed animal?\\n3. Your cat: Similar to the dog, we'll need its name, breed, age, and any special care instructions.\\n\\nCould you please provide more details about your dog and cat? And could you clarify what you meant by 'dragon'? Once we have this information, I can help you add your pets to our system.\")\n"
     ]
    },
    {
     "data": {
      "text/plain": [
       "OwnersPets(pet=[Dog(pet_type='dog', barks=6.0), Lizard(pet_type='lizard', scales=True), Cat(pet_type='cat', meows=2)])"
      ]
     },
     "execution_count": null,
     "metadata": {},
     "output_type": "execute_result"
    }
   ],
   "source": [
    "chat = Chat(\n",
    "    models[1],\n",
    "    sp=\"You are a vet helpdesk, helping owners check in their pets\",\n",
    "    cont_pr=\"perform the tool using the information above\" # filled as the user prompt when one is not provided (e.g. `Chat.struct(OwnerPets)`)\n",
    ")\n",
    "res = chat.struct(SupportRequest, pr=\"hello I am a new owner and I would like to add some pets for me. I have a dog which has 6 barks, a dragon with 10 scales, and a cat with 2 meows\")"
   ]
  },
  {
   "cell_type": "code",
   "execution_count": null,
   "metadata": {},
   "outputs": [],
   "source": [
    "print(res)\n",
    "chat.struct(OwnersPets)"
   ]
  }
 ],
 "metadata": {
  "kernelspec": {
   "display_name": "python3",
   "language": "python",
   "name": "python3"
  }
 },
 "nbformat": 4,
 "nbformat_minor": 4
}
